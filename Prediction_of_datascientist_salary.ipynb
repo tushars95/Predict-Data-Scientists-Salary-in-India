{
 "cells": [
  {
   "cell_type": "code",
   "execution_count": 1,
   "metadata": {},
   "outputs": [
    {
     "name": "stderr",
     "output_type": "stream",
     "text": [
      "C:\\Users\\DELL\\Anaconda3\\lib\\site-packages\\sklearn\\ensemble\\weight_boosting.py:29: DeprecationWarning: numpy.core.umath_tests is an internal NumPy module and should not be imported. It will be removed in a future NumPy release.\n",
      "  from numpy.core.umath_tests import inner1d\n"
     ]
    }
   ],
   "source": [
    "import numpy as np\n",
    "import pandas as pd\n",
    "from sklearn.ensemble import RandomForestClassifier\n",
    "from sklearn.metrics import mean_squared_error\n",
    "from sklearn.model_selection import train_test_split\n",
    "from sklearn.preprocessing import LabelEncoder\n",
    "from sklearn.metrics import accuracy_score\n",
    "from sklearn.neighbors import KNeighborsClassifier"
   ]
  },
  {
   "cell_type": "code",
   "execution_count": 2,
   "metadata": {},
   "outputs": [],
   "source": [
    "DSP_train = pd.read_csv('DSaP_Train.csv')\n",
    "DSP_test = pd.read_csv('DSaP_Test.csv')\n",
    "DSP_train=DSP_train.drop('Unnamed: 0',axis=1)"
   ]
  },
  {
   "cell_type": "code",
   "execution_count": 3,
   "metadata": {},
   "outputs": [
    {
     "name": "stdout",
     "output_type": "stream",
     "text": [
      "(19802, 8)\n",
      "(6601, 7)\n"
     ]
    }
   ],
   "source": [
    "print(DSP_train.shape)\n",
    "print(DSP_test.shape)"
   ]
  },
  {
   "cell_type": "code",
   "execution_count": 4,
   "metadata": {},
   "outputs": [
    {
     "name": "stdout",
     "output_type": "stream",
     "text": [
      "Index(['experience', 'job_description', 'job_desig', 'job_type', 'key_skills',\n",
      "       'location', 'salary', 'company_name_encoded'],\n",
      "      dtype='object')\n",
      "Index(['experience', 'job_description', 'job_desig', 'job_type', 'key_skills',\n",
      "       'location', 'company_name_encoded'],\n",
      "      dtype='object')\n"
     ]
    }
   ],
   "source": [
    "print(DSP_train.columns)\n",
    "print(DSP_test.columns)"
   ]
  },
  {
   "cell_type": "code",
   "execution_count": 5,
   "metadata": {},
   "outputs": [
    {
     "data": {
      "text/plain": [
       "[('experience', dtype('O'), 0),\n",
       " ('job_description', dtype('O'), 4418),\n",
       " ('job_desig', dtype('O'), 0),\n",
       " ('job_type', dtype('O'), 15005),\n",
       " ('key_skills', dtype('O'), 1),\n",
       " ('location', dtype('O'), 0),\n",
       " ('salary', dtype('O'), 0),\n",
       " ('company_name_encoded', dtype('int64'), 0)]"
      ]
     },
     "execution_count": 5,
     "metadata": {},
     "output_type": "execute_result"
    }
   ],
   "source": [
    "list(zip(DSP_train.columns,DSP_train.dtypes,DSP_train.isnull().sum()))"
   ]
  },
  {
   "cell_type": "code",
   "execution_count": 6,
   "metadata": {},
   "outputs": [
    {
     "data": {
      "text/plain": [
       "[('experience', dtype('O'), 0),\n",
       " ('job_description', dtype('O'), 1522),\n",
       " ('job_desig', dtype('O'), 0),\n",
       " ('job_type', dtype('O'), 4964),\n",
       " ('key_skills', dtype('O'), 0),\n",
       " ('location', dtype('O'), 0),\n",
       " ('company_name_encoded', dtype('int64'), 0)]"
      ]
     },
     "execution_count": 6,
     "metadata": {},
     "output_type": "execute_result"
    }
   ],
   "source": [
    "list(zip(DSP_test.columns,DSP_test.dtypes,DSP_test.isnull().sum()))"
   ]
  },
  {
   "cell_type": "code",
   "execution_count": 7,
   "metadata": {},
   "outputs": [],
   "source": [
    "new = DSP_test[\"experience\"].str.split(\"-\", n = 1, expand = True)\n",
    "DSP_test[\"First Year\"]= new[0]\n",
    "DSP_test[\"Last Year\"]= new[1]\n",
    "DSP_test[\"Last Year\"]=DSP_test[\"Last Year\"].str.rstrip(\"yrs\")\n",
    "DSP_test.drop(columns =[\"experience\"], inplace = True)"
   ]
  },
  {
   "cell_type": "code",
   "execution_count": 8,
   "metadata": {},
   "outputs": [],
   "source": [
    "new = DSP_train[\"experience\"].str.split(\"-\", n = 1, expand = True)\n",
    "DSP_train[\"First Year\"]= new[0]\n",
    "DSP_train[\"Last Year\"]= new[1]\n",
    "DSP_train[\"Last Year\"]=DSP_train[\"Last Year\"].str.rstrip(\"yrs\")\n",
    "DSP_train.drop(columns =[\"experience\"], inplace = True)"
   ]
  },
  {
   "cell_type": "code",
   "execution_count": 9,
   "metadata": {},
   "outputs": [],
   "source": [
    "DSP_train[\"Last Year\"]=DSP_train[\"Last Year\"].astype(int)\n",
    "DSP_train[\"First Year\"]=DSP_train[\"First Year\"].astype(int)\n",
    "DSP_train['job_description']=DSP_train['job_description'].astype(str)\n",
    "DSP_train['key_skills']=DSP_train['key_skills'].astype(str)\n",
    "DSP_train['job_type']=DSP_train['job_type'].astype(str)\n",
    "DSP_train['job_desig']=DSP_train['job_desig'].astype(str)\n",
    "DSP_train['location']=DSP_train['location'].astype(str)"
   ]
  },
  {
   "cell_type": "code",
   "execution_count": 10,
   "metadata": {},
   "outputs": [],
   "source": [
    "DSP_test[\"Last Year\"]=DSP_test[\"Last Year\"].astype(int)\n",
    "DSP_test[\"First Year\"]=DSP_test[\"First Year\"].astype(int)\n",
    "DSP_test['job_description']=DSP_test['job_description'].astype(str)\n",
    "DSP_test['key_skills']=DSP_test['key_skills'].astype(str)\n",
    "DSP_test['job_type']=DSP_test['job_type'].astype(str)\n",
    "DSP_test['job_desig']=DSP_test['job_desig'].astype(str)\n",
    "DSP_test['location']=DSP_test['location'].astype(str)"
   ]
  },
  {
   "cell_type": "code",
   "execution_count": 11,
   "metadata": {},
   "outputs": [],
   "source": [
    "DSP_train['job_description'].fillna(DSP_train['job_description'].mode(), inplace=True)\n",
    "DSP_train['key_skills'].fillna(DSP_train['key_skills'].mode(), inplace=True)\n",
    "DSP_train['job_type'].fillna(DSP_train['job_type'].mode(), inplace=True)\n",
    "DSP_test['job_type'].fillna(DSP_test['job_type'].mode(), inplace=True)"
   ]
  },
  {
   "cell_type": "code",
   "execution_count": 12,
   "metadata": {},
   "outputs": [],
   "source": [
    "from sklearn import preprocessing \n",
    "label_encoder = preprocessing.LabelEncoder() \n",
    "DSP_train['job_description']= label_encoder.fit_transform(DSP_train['job_description'])\n",
    "DSP_train['job_desig']= label_encoder.fit_transform(DSP_train['job_desig'])\n",
    "DSP_train['key_skills']= label_encoder.fit_transform(DSP_train['key_skills'])\n",
    "DSP_train['location']= label_encoder.fit_transform(DSP_train['location'])\n",
    "DSP_train['job_type']= label_encoder.fit_transform(DSP_train['job_type'])"
   ]
  },
  {
   "cell_type": "code",
   "execution_count": 13,
   "metadata": {},
   "outputs": [],
   "source": [
    "label_encoder = preprocessing.LabelEncoder() \n",
    "DSP_test['job_description']= label_encoder.fit_transform(DSP_test['job_description'])\n",
    "DSP_test['job_desig']= label_encoder.fit_transform(DSP_test['job_desig'])\n",
    "DSP_test['key_skills']= label_encoder.fit_transform(DSP_test['key_skills'])\n",
    "DSP_test['location']= label_encoder.fit_transform(DSP_test['location'])\n",
    "DSP_test['job_type']= label_encoder.fit_transform(DSP_test['job_type'])"
   ]
  },
  {
   "cell_type": "code",
   "execution_count": 14,
   "metadata": {},
   "outputs": [],
   "source": [
    "x_train=DSP_train.drop('salary', axis=1)\n",
    "x_test=DSP_test\n",
    "y_train=DSP_train['salary']"
   ]
  },
  {
   "cell_type": "code",
   "execution_count": 15,
   "metadata": {},
   "outputs": [
    {
     "data": {
      "text/plain": [
       "RandomForestClassifier(bootstrap=True, class_weight=None, criterion='gini',\n",
       "            max_depth=None, max_features='auto', max_leaf_nodes=None,\n",
       "            min_impurity_decrease=0.0, min_impurity_split=None,\n",
       "            min_samples_leaf=1, min_samples_split=2,\n",
       "            min_weight_fraction_leaf=0.0, n_estimators=500, n_jobs=1,\n",
       "            oob_score=False, random_state=100, verbose=0, warm_start=False)"
      ]
     },
     "execution_count": 15,
     "metadata": {},
     "output_type": "execute_result"
    }
   ],
   "source": [
    "model_rf = RandomForestClassifier(n_estimators=500,random_state=100)\n",
    "model_rf.fit(x_train,y_train)"
   ]
  },
  {
   "cell_type": "code",
   "execution_count": 16,
   "metadata": {},
   "outputs": [
    {
     "data": {
      "text/plain": [
       "0.8001716998283002"
      ]
     },
     "execution_count": 16,
     "metadata": {},
     "output_type": "execute_result"
    }
   ],
   "source": [
    "y_pred = model_rf.predict(x_test)\n",
    "model_rf.score(x_train, y_train)"
   ]
  },
  {
   "cell_type": "code",
   "execution_count": 17,
   "metadata": {},
   "outputs": [],
   "source": [
    "final=pd.DataFrame(y_pred)\n",
    "final=final.rename(columns={0:'salary'})"
   ]
  },
  {
   "cell_type": "code",
   "execution_count": 18,
   "metadata": {},
   "outputs": [],
   "source": [
    "from pandas import ExcelWriter\n",
    "from pandas import ExcelFile"
   ]
  },
  {
   "cell_type": "code",
   "execution_count": 19,
   "metadata": {},
   "outputs": [],
   "source": [
    "writer= ExcelWriter('Prediction_of_datascientist_job.xlsx')\n",
    "final.to_excel(writer,'sheet1',index=False)\n",
    "writer.save()"
   ]
  },
  {
   "cell_type": "markdown",
   "metadata": {},
   "source": [
    "## Tuning"
   ]
  },
  {
   "cell_type": "code",
   "execution_count": 20,
   "metadata": {},
   "outputs": [],
   "source": [
    "from sklearn.linear_model import LogisticRegression, RidgeClassifierCV\n",
    "from sklearn.svm import SVC, LinearSVC\n",
    "from sklearn.ensemble import (RandomForestClassifier, GradientBoostingClassifier)\n",
    "from sklearn.neighbors import KNeighborsClassifier\n",
    "from sklearn.naive_bayes import GaussianNB\n",
    "from sklearn.linear_model import Perceptron\n",
    "from sklearn.linear_model import SGDClassifier\n",
    "from sklearn.model_selection import GridSearchCV\n",
    "from sklearn.metrics import roc_curve, auc\n",
    "from sklearn.metrics import confusion_matrix\n",
    "from sklearn.externals import joblib\n",
    "from sklearn.model_selection import RandomizedSearchCV\n",
    "from sklearn.ensemble import RandomForestClassifier\n",
    "from sklearn.metrics import classification_report, confusion_matrix, accuracy_score\n",
    "from sklearn.model_selection import cross_val_score"
   ]
  },
  {
   "cell_type": "code",
   "execution_count": 21,
   "metadata": {},
   "outputs": [
    {
     "name": "stdout",
     "output_type": "stream",
     "text": [
      "0.8001716998283002\n",
      "0.688061811938188\n",
      "0.6094333905666094\n",
      "0.49984850015149984\n",
      "0.4776285223714776\n",
      "0.4621755378244622\n",
      "0.436976063023937\n"
     ]
    }
   ],
   "source": [
    "sample_leaf_options = [1,5,10,50,100,200,500]\n",
    "for leaf_size in sample_leaf_options :\n",
    "    model = RandomForestClassifier(n_estimators = 200, n_jobs = -1,random_state =50,max_features = \"auto\", min_samples_leaf = leaf_size)\n",
    "    model.fit(x_train, y_train)\n",
    "    print(model.score(x_train, y_train))"
   ]
  },
  {
   "cell_type": "code",
   "execution_count": 22,
   "metadata": {},
   "outputs": [
    {
     "name": "stdout",
     "output_type": "stream",
     "text": [
      "0.6711948288051712\n",
      "0.7698717301282699\n",
      "0.7915867084132916\n",
      "0.8001716998283002\n",
      "0.8001716998283002\n",
      "0.8001716998283002\n",
      "0.8001716998283002\n"
     ]
    }
   ],
   "source": [
    "estimating = [1,5,10,50,100,200,500]\n",
    "for leaf_size in estimating :\n",
    "    model = RandomForestClassifier(n_estimators = leaf_size, n_jobs = -1,random_state =50,max_features = \"auto\", min_samples_leaf = 1)\n",
    "    model.fit(x_train, y_train)\n",
    "    print(model.score(x_train, y_train))"
   ]
  },
  {
   "cell_type": "code",
   "execution_count": 23,
   "metadata": {},
   "outputs": [
    {
     "name": "stdout",
     "output_type": "stream",
     "text": [
      "0.3667811332188668\n",
      "0.4625795374204626\n",
      "0.5621654378345622\n",
      "0.8001716998283002\n",
      "0.8001716998283002\n",
      "0.8001716998283002\n",
      "0.8001716998283002\n",
      "0.8001716998283002\n"
     ]
    }
   ],
   "source": [
    "depth = [1,5,10,50,100,200,500,1000]\n",
    "for deep in depth :\n",
    "    model = RandomForestClassifier(n_estimators = 200, n_jobs = -1,max_depth=deep,random_state =50,max_features = \"auto\", min_samples_leaf = 1)\n",
    "    model.fit(x_train, y_train)\n",
    "    print(model.score(x_train, y_train))"
   ]
  },
  {
   "cell_type": "code",
   "execution_count": 24,
   "metadata": {},
   "outputs": [
    {
     "data": {
      "text/plain": [
       "0.8001716998283002"
      ]
     },
     "execution_count": 24,
     "metadata": {},
     "output_type": "execute_result"
    }
   ],
   "source": [
    "from sklearn.ensemble import ExtraTreesClassifier\n",
    "from sklearn.metrics import classification_report\n",
    "etc = ExtraTreesClassifier(bootstrap=True, oob_score=True, n_estimators=100)\n",
    "etc.fit(x_train, y_train)\n",
    "etc.score(x_train, y_train)"
   ]
  },
  {
   "cell_type": "code",
   "execution_count": 25,
   "metadata": {},
   "outputs": [],
   "source": [
    "random_forest = RandomForestClassifier(criterion='gini', \n",
    "                             n_estimators=100,\n",
    "                             min_samples_split=10,\n",
    "                             min_samples_leaf=1,\n",
    "                             max_features='auto',\n",
    "                             random_state=1,\n",
    "                             n_jobs=-1)\n",
    "random_forest.fit(x_train, y_train)\n",
    "Y_pred = random_forest.predict(x_test)"
   ]
  },
  {
   "cell_type": "code",
   "execution_count": 26,
   "metadata": {},
   "outputs": [],
   "source": [
    "result_train = random_forest.score(x_train, y_train)\n",
    "result_val = cross_val_score(random_forest,x_train, y_train, cv=5).mean()"
   ]
  },
  {
   "cell_type": "code",
   "execution_count": 27,
   "metadata": {},
   "outputs": [
    {
     "name": "stdout",
     "output_type": "stream",
     "text": [
      "score = 0.7492677507322493 , while validation score = 0.40228258107228776\n"
     ]
    }
   ],
   "source": [
    "print('score = %s , while validation score = %s' %(result_train , result_val))"
   ]
  },
  {
   "cell_type": "code",
   "execution_count": null,
   "metadata": {},
   "outputs": [],
   "source": []
  }
 ],
 "metadata": {
  "kernelspec": {
   "display_name": "Python 3",
   "language": "python",
   "name": "python3"
  },
  "language_info": {
   "codemirror_mode": {
    "name": "ipython",
    "version": 3
   },
   "file_extension": ".py",
   "mimetype": "text/x-python",
   "name": "python",
   "nbconvert_exporter": "python",
   "pygments_lexer": "ipython3",
   "version": "3.7.0"
  }
 },
 "nbformat": 4,
 "nbformat_minor": 2
}
